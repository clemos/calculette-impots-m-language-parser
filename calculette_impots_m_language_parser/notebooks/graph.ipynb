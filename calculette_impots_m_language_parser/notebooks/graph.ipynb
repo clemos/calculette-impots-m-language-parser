{
 "cells": [
  {
   "cell_type": "code",
   "execution_count": 36,
   "metadata": {
    "collapsed": false
   },
   "outputs": [
    {
     "name": "stdout",
     "output_type": "stream",
     "text": [
      "The important variables are : ['NBPT', 'REVKIRE', 'BCSG', 'BRDS', 'IBM23', 'TXMOYIMP', 'NAPTIR', 'IINET', 'RRRBG', 'RNI', 'IDRS3', 'IAVIM']\n",
      "Found 1435 unknown variables.\n",
      "4740 formulas are used to compute an important variable.\n",
      "233 constants are used to compute an important variable.\n",
      "1463 inputs are used to compute an important variable.\n",
      "782 undefined symbols are used to compute an important variable.\n"
     ]
    }
   ],
   "source": [
    "import json\n",
    "import collections\n",
    "import numpy as np\n",
    "\n",
    "from calculette_impots_m_language_parser.scripts import lighten_graph"
   ]
  },
  {
   "cell_type": "markdown",
   "metadata": {},
   "source": [
    "## Find cycles"
   ]
  },
  {
   "cell_type": "markdown",
   "metadata": {},
   "source": [
    "### Adjacency matrix : too long (do not execute the following cells)"
   ]
  },
  {
   "cell_type": "code",
   "execution_count": null,
   "metadata": {
    "collapsed": true
   },
   "outputs": [],
   "source": [
    "index = {}\n",
    "reverse_index = []\n",
    "for i, k in enumerate(formulas_light):\n",
    "    index[k] = i\n",
    "    reverse_index.append(k)"
   ]
  },
  {
   "cell_type": "code",
   "execution_count": null,
   "metadata": {
    "collapsed": true
   },
   "outputs": [],
   "source": [
    "n = len(index)\n",
    "adj = np.zeros((n, n))"
   ]
  },
  {
   "cell_type": "code",
   "execution_count": null,
   "metadata": {
    "collapsed": false
   },
   "outputs": [],
   "source": [
    "for parent in formulas_light:\n",
    "    children = children_dict[parent]\n",
    "    for child in children:\n",
    "        if child in children_dict:\n",
    "            adj[index[parent], index[child]] = 1"
   ]
  },
  {
   "cell_type": "code",
   "execution_count": null,
   "metadata": {
    "collapsed": false
   },
   "outputs": [],
   "source": [
    "current_power = 1\n",
    "while current_power <= n:\n",
    "    print(current_power)\n",
    "    adj = np.dot(adj, adj)\n",
    "    current_power += 1"
   ]
  },
  {
   "cell_type": "code",
   "execution_count": null,
   "metadata": {
    "collapsed": false
   },
   "outputs": [],
   "source": [
    "np.diag(adj).sum()"
   ]
  },
  {
   "cell_type": "markdown",
   "metadata": {
    "collapsed": true
   },
   "source": [
    "### Graph traversal : too long"
   ]
  },
  {
   "cell_type": "code",
   "execution_count": null,
   "metadata": {
    "collapsed": false
   },
   "outputs": [],
   "source": [
    "def cycle_research(node, genealogy):\n",
    "    if node in genealogy:\n",
    "        print('Cycle detected : %s'%str(genealogy))\n",
    "    else:\n",
    "        for child in children_light[node]:\n",
    "            child_genealogy = list(genealogy)\n",
    "            child_genealogy.append(node)\n",
    "            cycle_research(child, child_genealogy)\n",
    "        "
   ]
  },
  {
   "cell_type": "code",
   "execution_count": null,
   "metadata": {
    "collapsed": false
   },
   "outputs": [],
   "source": [
    "# do not execute this cell (too long)\n",
    "cycle_research('IRN', [])"
   ]
  },
  {
   "cell_type": "markdown",
   "metadata": {},
   "source": [
    "### Tarjan's strongly connected components algorithm"
   ]
  },
  {
   "cell_type": "code",
   "execution_count": 17,
   "metadata": {
    "collapsed": true
   },
   "outputs": [],
   "source": [
    "class State():\n",
    "    def __init__(self):\n",
    "        self.current_index = 0\n",
    "        self.stack = []\n",
    "        self.strongly_connected_components = []\n",
    "        self.tarjan_indexes = {}\n",
    "        self.low_link = {}\n",
    "s = State()"
   ]
  },
  {
   "cell_type": "code",
   "execution_count": 18,
   "metadata": {
    "collapsed": true
   },
   "outputs": [],
   "source": [
    "def strong_connect(node, s):\n",
    "    s.tarjan_indexes[node] = s.current_index\n",
    "    s.low_link[node] = s.current_index\n",
    "    s.current_index += 1\n",
    "    s.stack.append(node)\n",
    "\n",
    "    for child in children_light[node]:\n",
    "        if child not in s.tarjan_indexes:\n",
    "            strong_connect(child, s)\n",
    "            s.low_link[node] = min(s.low_link[node], s.low_link[child])\n",
    "        elif child in s.stack:\n",
    "            s.low_link[node] = min(s.low_link[node], s.tarjan_indexes[child])\n",
    "\n",
    "    if s.low_link[node] == s.tarjan_indexes[node]:\n",
    "        new_component = []\n",
    "        while s.stack[-1] != node:\n",
    "            new_component.append(s.stack.pop())\n",
    "        new_component.append(s.stack.pop())\n",
    "        s.strongly_connected_components.append(new_component)"
   ]
  },
  {
   "cell_type": "code",
   "execution_count": 19,
   "metadata": {
    "collapsed": false
   },
   "outputs": [],
   "source": [
    "for node in formulas_light:\n",
    "    if node not in s.tarjan_indexes:\n",
    "        strong_connect(node, s)"
   ]
  },
  {
   "cell_type": "code",
   "execution_count": 20,
   "metadata": {
    "collapsed": false
   },
   "outputs": [
    {
     "data": {
      "text/plain": [
       "Counter({1: 4740})"
      ]
     },
     "execution_count": 20,
     "metadata": {},
     "output_type": "execute_result"
    }
   ],
   "source": [
    "component_size = [len(comp) for comp in s.strongly_connected_components]\n",
    "c = collections.Counter(component_size)\n",
    "c"
   ]
  },
  {
   "cell_type": "markdown",
   "metadata": {},
   "source": [
    "## Tree depth"
   ]
  },
  {
   "cell_type": "code",
   "execution_count": 37,
   "metadata": {
    "collapsed": true
   },
   "outputs": [],
   "source": [
    "# recursive : too long (do not execute)\n",
    "def compute_depth(node):\n",
    "    children_depth = [lighten_graph.compute_depth(child) for child in lighten_graph.children_light[node]]\n",
    "    if children_depth:\n",
    "        return 1 + max(children_depth)\n",
    "    else:\n",
    "        return 1"
   ]
  },
  {
   "cell_type": "code",
   "execution_count": 38,
   "metadata": {
    "collapsed": true
   },
   "outputs": [],
   "source": [
    "depths = {}\n",
    "for var in lighten_graph.computing_order:\n",
    "    children_depth = [depths[child] for child in lighten_graph.children_light[var]]\n",
    "    if children_depth:\n",
    "        depths[var] = 1 + max(children_depth)\n",
    "    else:\n",
    "        depths[var] = 1"
   ]
  },
  {
   "cell_type": "code",
   "execution_count": 39,
   "metadata": {
    "collapsed": false
   },
   "outputs": [
    {
     "data": {
      "text/plain": [
       "1119"
      ]
     },
     "execution_count": 39,
     "metadata": {},
     "output_type": "execute_result"
    }
   ],
   "source": [
    "depths['IINET']"
   ]
  },
  {
   "cell_type": "code",
   "execution_count": null,
   "metadata": {
    "collapsed": true
   },
   "outputs": [],
   "source": []
  }
 ],
 "metadata": {
  "kernelspec": {
   "display_name": "Python 3",
   "language": "python",
   "name": "python3"
  },
  "language_info": {
   "codemirror_mode": {
    "name": "ipython",
    "version": 3
   },
   "file_extension": ".py",
   "mimetype": "text/x-python",
   "name": "python",
   "nbconvert_exporter": "python",
   "pygments_lexer": "ipython3",
   "version": "3.4.3"
  }
 },
 "nbformat": 4,
 "nbformat_minor": 0
}
